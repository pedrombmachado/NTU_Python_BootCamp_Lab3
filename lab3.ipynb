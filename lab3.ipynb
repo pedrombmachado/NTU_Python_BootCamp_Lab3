{
 "cells": [
  {
   "cell_type": "code",
   "execution_count": 1,
   "id": "dfc73f77",
   "metadata": {},
   "outputs": [
    {
     "name": "stdout",
     "output_type": "stream",
     "text": [
      "What is the start value? 10\n",
      "What is the end value? 20\n",
      "What is the step value? 3\n",
      "3.3333333333333335\n"
     ]
    }
   ],
   "source": [
    "start=int(input(\"What is the start value? \"))\n",
    "end=int(input(\"What is the end value? \"))\n",
    "if(end>start):\n",
    "    step=int(input(\"What is the step value? \"))\n",
    "    if(step>0 and step<start and step<start):\n",
    "        res=(end-start)/step\n",
    "        print(res)\n",
    "    else:\n",
    "        print(\"Invalid step value.\")\n",
    "else:\n",
    "    print(\"Invalid start value.\")\n"
   ]
  },
  {
   "cell_type": "code",
   "execution_count": 11,
   "id": "58ad33b4",
   "metadata": {},
   "outputs": [
    {
     "name": "stdout",
     "output_type": "stream",
     "text": [
      "Enter a string abcdef\n",
      "f\n",
      "fe\n",
      "fed\n",
      "fedc\n",
      "fedcb\n",
      "fedcba\n",
      "fedcba\n"
     ]
    }
   ],
   "source": [
    "vec=input(\"Enter a string \")\n",
    "res=\"\"\n",
    "for i in range(len(vec)-1,-1,-1):\n",
    "    res+=vec[i]\n",
    "print(res)"
   ]
  },
  {
   "cell_type": "code",
   "execution_count": null,
   "id": "d37105d0",
   "metadata": {},
   "outputs": [],
   "source": []
  }
 ],
 "metadata": {
  "kernelspec": {
   "display_name": "Python 3 (ipykernel)",
   "language": "python",
   "name": "python3"
  },
  "language_info": {
   "codemirror_mode": {
    "name": "ipython",
    "version": 3
   },
   "file_extension": ".py",
   "mimetype": "text/x-python",
   "name": "python",
   "nbconvert_exporter": "python",
   "pygments_lexer": "ipython3",
   "version": "3.9.12"
  }
 },
 "nbformat": 4,
 "nbformat_minor": 5
}
