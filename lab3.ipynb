{
 "cells": [
  {
   "cell_type": "code",
   "execution_count": 1,
   "id": "45d3a535",
   "metadata": {},
   "outputs": [
    {
     "name": "stdout",
     "output_type": "stream",
     "text": [
      "What is the start value? 10\n",
      "What is the end value? 20\n",
      "What is the step value? 3\n",
      "3.3333333333333335\n"
     ]
    }
   ],
   "source": [
    "start=int(input(\"What is the start value? \"))\n",
    "end=int(input(\"What is the end value? \"))\n",
    "if(end>start):\n",
    "    step=int(input(\"What is the step value? \"))\n",
    "    if(step>0 and step<start and step<start):\n",
    "        res=(end-start)/step\n",
    "        print(res)\n",
    "    else:\n",
    "        print(\"Invalid step value.\")\n",
    "else:\n",
    "    print(\"Invalid start value.\")\n"
   ]
  },
  {
   "cell_type": "code",
   "execution_count": 13,
   "id": "e6dcc12f",
   "metadata": {},
   "outputs": [
    {
     "name": "stdout",
     "output_type": "stream",
     "text": [
      "Enter a string abcdefg\n",
      "gfedcba\n",
      "gfedcba\n"
     ]
    }
   ],
   "source": [
    "vec=input(\"Enter a string \")\n",
    "res=\"\"\n",
    "for i in range(len(vec)-1,-1,-1):\n",
    "    res+=vec[i]\n",
    "print(res)\n",
    "#or\n",
    "invVec=vec[::-1]\n",
    "print(invVec)"
   ]
  },
  {
   "cell_type": "code",
   "execution_count": null,
   "id": "0a0c8d9f",
   "metadata": {},
   "outputs": [
    {
     "name": "stdout",
     "output_type": "stream",
     "text": [
      "['dzsbkmopo', 'oxwm', 'gpppp', 'fdshtxvz', 'idlwczx', 'rxkzwn', 'hyrgvdxq', 'av', 'pcqwsdi', 'sb', 'ndxes', 'ftwv', 'lvgagmerjs', 'jafso', 'iykvlptcag', 'hzljhsv', 'tgkgtbwpfb', 'fgpiuadbmu', 'pj', 'mkdtcqukrb', 'hzgscj', 'jrmqexhj', 'qedgssfd', 'mylwe', 'vl', 'xzwizbn', 'rww', 'bnzldic', 'zomwh', 'ojllorwj', 'nxraxuhhrt', 'eusvewxbn', 'owbefo', 'nvcnf', 'iwfb', 'kc', 'ohai', 'nskuugsmyp', 'roghojebfs', 'zik', 'wky', 'valzp', 'nvlrerqndc', 'xvedvu', 'ajf', 'htjunldozd', 'wzuxjod', 'oc', 'qkfvffzpz', 'meytgmd', 'rhepwe', 'kyjheaptp', 'wxs', 'jealrdg', 'olldgs', 'tvsgywmsu', 'gb', 'ogrhztlz', 'rjodsmi', 'gikrdduutg', 'fjidlgmooo', 'jpxdwwu', 'pgjmwym', 'irogvw', 'bohmjdsmi', 'cbivojm', 'liqtgr', 'wrtntgs', 'ky', 'cfiuyzbibr', 'svcksts', 'iqczdrc', 'qfhlbohxtq', 'lxnblscgx', 'skghu', 'bu', 'iqnfz', 'ammwaqzgqt', 'ezhwzulf', 'rrvbepjsaw', 'qs', 'bzdlyhi', 'nlfq', 'mjmx', 'xpylhlm', 'gimvtcvba', 'hxjbxqcpoq', 'zlchya', 'qdjhlzcjc', 'dwktducjml', 'qlx', 'vcy', 'ojxrs', 'otc', 'kt', 'ta', 'ioshcw', 'ff', 'skzryn', 'rkkfelptm', 'rvba', 'th', 'lvw', 'ua', 'dfz', 'jllgszttrf', 'uwzvky', 'rsdvwalcm', 'wlevnrdqiv', 'gcihfovuve', 'ruxrevceky', 'meijqb', 'kttcx', 'zjsjcbygon', 'iouebvgmu', 'ookul', 'hctm', 'zzlhbcimn', 'xrlkyk', 'pqsfhyqw', 'dinadxq', 'plitkjrhph', 'qnns', 'uwpg', 'xoodggbg', 'qpfvsrz', 'jgiayzdtn', 'tmf', 'tudageqz', 'wfv', 'eskhtkh', 'illwtgvuzt', 'rbkf', 'au', 'duojzstb', 'nysnl', 'sjqun', 'khx', 'veayr']\n",
      "The word has a length of  10\n"
     ]
    }
   ],
   "source": [
    "import random as r\n",
    "\n",
    "num_words=r.randint(100,200)\n",
    "\n",
    "vec=[]\n",
    "for i in range(num_words):\n",
    "    num_letters=r.randint(2,10)\n",
    "    string=\"\"\n",
    "    for j in range(num_letters):\n",
    "        string+=chr(r.randint(97,122))\n",
    "    vec.append(string)\n",
    "print(vec)\n",
    "word_index=r.randint(0,num_words)\n",
    "print(\"The word has a length of \", len(vec[word_index]))\n",
    "score=5\n",
    "for i in range(5):\n",
    "    r=input(\"Guess a letter: \")\n",
    "    if r in vec[word_index]:\n",
    "        print(\"yes\")\n",
    "    else:\n",
    "        print(\"no\")\n",
    "res=input(\"Guess the word: \")\n",
    "if (res==vec[word_index]):\n",
    "    print(\"Correct. You scored\", score, \"points\")\n",
    "else:\n",
    "    print(\"Incorrect. The word was\", vec[word_index])"
   ]
  },
  {
   "cell_type": "code",
   "execution_count": null,
   "id": "9f13da0a",
   "metadata": {},
   "outputs": [],
   "source": []
  },
  {
   "cell_type": "code",
   "execution_count": null,
   "id": "bfde6ef7",
   "metadata": {},
   "outputs": [],
   "source": []
  }
 ],
 "metadata": {
  "kernelspec": {
   "display_name": "Python 3 (ipykernel)",
   "language": "python",
   "name": "python3"
  },
  "language_info": {
   "codemirror_mode": {
    "name": "ipython",
    "version": 3
   },
   "file_extension": ".py",
   "mimetype": "text/x-python",
   "name": "python",
   "nbconvert_exporter": "python",
   "pygments_lexer": "ipython3",
   "version": "3.9.12"
  }
 },
 "nbformat": 4,
 "nbformat_minor": 5
}
