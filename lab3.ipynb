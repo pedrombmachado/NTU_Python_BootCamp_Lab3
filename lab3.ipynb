{
 "cells": [
  {
   "cell_type": "code",
   "execution_count": null,
   "id": "d6b56731",
   "metadata": {},
   "outputs": [],
   "source": [
    "start=int(input(\"What is the start value? \"))\n",
    "end=int(input(\"What is the end value? \"))\n",
    "if(end>start):\n",
    "    step=int(input(\"What is the step value? \"))\n",
    "    if(step>0 and step<start and step<start):\n",
    "        res=(end-start)/step\n",
    "        print(res)\n",
    "    else:\n",
    "        print(\"Invalid step value.\")\n",
    "else:\n",
    "    print(\"Invalid start value.\")\n"
   ]
  },
  {
   "cell_type": "code",
   "execution_count": null,
   "id": "820c9297",
   "metadata": {},
   "outputs": [],
   "source": []
  },
  {
   "cell_type": "code",
   "execution_count": null,
   "id": "8e3f44c6",
   "metadata": {},
   "outputs": [],
   "source": []
  }
 ],
 "metadata": {
  "kernelspec": {
   "display_name": "Python 3 (ipykernel)",
   "language": "python",
   "name": "python3"
  },
  "language_info": {
   "codemirror_mode": {
    "name": "ipython",
    "version": 3
   },
   "file_extension": ".py",
   "mimetype": "text/x-python",
   "name": "python",
   "nbconvert_exporter": "python",
   "pygments_lexer": "ipython3",
   "version": "3.9.12"
  }
 },
 "nbformat": 4,
 "nbformat_minor": 5
}
